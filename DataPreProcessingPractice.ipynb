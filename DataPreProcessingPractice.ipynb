{
  "nbformat": 4,
  "nbformat_minor": 0,
  "metadata": {
    "colab": {
      "provenance": []
    },
    "kernelspec": {
      "name": "python3",
      "display_name": "Python 3"
    },
    "language_info": {
      "name": "python"
    }
  },
  "cells": [
    {
      "cell_type": "markdown",
      "source": [
        "**Read the Sample Data**"
      ],
      "metadata": {
        "id": "uVO8chCwTbvn"
      }
    },
    {
      "cell_type": "code",
      "execution_count": 51,
      "metadata": {
        "id": "xb0JSqyA70mU"
      },
      "outputs": [],
      "source": []
    },
    {
      "cell_type": "markdown",
      "source": [
        "**Convert to Numpy Array**"
      ],
      "metadata": {
        "id": "GIl06wezTsVq"
      }
    },
    {
      "cell_type": "code",
      "source": [],
      "metadata": {
        "id": "8RwGoigB9GUE"
      },
      "execution_count": 51,
      "outputs": []
    },
    {
      "cell_type": "markdown",
      "source": [
        "**Process Missing Data** (nan and 0)"
      ],
      "metadata": {
        "id": "41XVQit9T3nx"
      }
    },
    {
      "cell_type": "code",
      "source": [],
      "metadata": {
        "id": "x-uZP1D78UN9"
      },
      "execution_count": 51,
      "outputs": []
    },
    {
      "cell_type": "markdown",
      "source": [
        "**Process Categorical Data**"
      ],
      "metadata": {
        "id": "Zst3TgZuURxK"
      }
    },
    {
      "cell_type": "markdown",
      "source": [],
      "metadata": {
        "id": "PV-gkozTUBj3"
      }
    },
    {
      "cell_type": "code",
      "source": [],
      "metadata": {
        "id": "aX-I_Y7yCZ8V"
      },
      "execution_count": 51,
      "outputs": []
    },
    {
      "cell_type": "markdown",
      "source": [
        "**Prepare Train and Test Data**"
      ],
      "metadata": {
        "id": "p9t-dTS4U1Zk"
      }
    },
    {
      "cell_type": "code",
      "source": [],
      "metadata": {
        "id": "TLRlXieIU9jN"
      },
      "execution_count": null,
      "outputs": []
    }
  ]
}